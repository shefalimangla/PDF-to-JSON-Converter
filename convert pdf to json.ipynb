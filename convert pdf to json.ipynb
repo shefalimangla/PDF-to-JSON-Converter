{
 "cells": [
  {
   "cell_type": "code",
   "execution_count": 14,
   "id": "7f5a0f3f-e93c-4c99-90bc-fca1dddeb3a5",
   "metadata": {},
   "outputs": [],
   "source": []
  },
  {
   "cell_type": "code",
   "execution_count": 15,
   "id": "95f961d0-819d-4dc8-9e49-bedf40a5ece4",
   "metadata": {},
   "outputs": [],
   "source": [
    "import json\n",
    "import PyPDF2\n",
    "from PyPDF2 import PdfReader"
   ]
  },
  {
   "cell_type": "code",
   "execution_count": 16,
   "id": "c04fe287",
   "metadata": {},
   "outputs": [],
   "source": [
    "pdf_file = open(\"C:/Users/yaman/Downloads/Shefali Mangla's Resume.pdf\",\"rb\")"
   ]
  },
  {
   "cell_type": "code",
   "execution_count": 17,
   "id": "ced9998f",
   "metadata": {},
   "outputs": [],
   "source": [
    "pdf_reader = PdfReader(pdf_file)\n",
    "json_object = {}"
   ]
  },
  {
   "cell_type": "code",
   "execution_count": 18,
   "id": "441d2a1e",
   "metadata": {},
   "outputs": [],
   "source": [
    "for i in range(len(pdf_reader.pages)):\n",
    "    page = pdf_reader.pages[i]\n",
    "    text=page.extract_text()\n",
    "    json_object[i] = text\n",
    "   \n",
    "pdf_file.close()    "
   ]
  },
  {
   "cell_type": "code",
   "execution_count": 19,
   "id": "1f67ea7b",
   "metadata": {},
   "outputs": [],
   "source": [
    "new_json_file = \"new_pdf.json\"\n",
    "with open(new_json_file, \"w\", encoding=\"utf-8\") as json_file:\n",
    "    json.dump(json_object, json_file, ensure_ascii=False, indent=4)"
   ]
  },
  {
   "cell_type": "code",
   "execution_count": 20,
   "id": "b4ac1914",
   "metadata": {},
   "outputs": [
    {
     "name": "stdout",
     "output_type": "stream",
     "text": [
      "PDF content has been converted and saved to new_pdf.json\n"
     ]
    }
   ],
   "source": [
    "print(f\"PDF content has been converted and saved to {new_json_file}\")"
   ]
  },
  {
   "cell_type": "code",
   "execution_count": null,
   "id": "a5fd66e5",
   "metadata": {},
   "outputs": [],
   "source": []
  },
  {
   "cell_type": "code",
   "execution_count": null,
   "id": "4b0a9151",
   "metadata": {},
   "outputs": [],
   "source": []
  },
  {
   "cell_type": "code",
   "execution_count": null,
   "id": "aae07c50",
   "metadata": {},
   "outputs": [],
   "source": []
  },
  {
   "cell_type": "code",
   "execution_count": null,
   "id": "66bde249",
   "metadata": {},
   "outputs": [],
   "source": []
  },
  {
   "cell_type": "code",
   "execution_count": null,
   "id": "b14658b0",
   "metadata": {},
   "outputs": [],
   "source": []
  },
  {
   "cell_type": "code",
   "execution_count": null,
   "id": "c43fa536",
   "metadata": {},
   "outputs": [],
   "source": []
  }
 ],
 "metadata": {
  "kernelspec": {
   "display_name": "Python 3 (ipykernel)",
   "language": "python",
   "name": "python3"
  },
  "language_info": {
   "codemirror_mode": {
    "name": "ipython",
    "version": 3
   },
   "file_extension": ".py",
   "mimetype": "text/x-python",
   "name": "python",
   "nbconvert_exporter": "python",
   "pygments_lexer": "ipython3",
   "version": "3.11.7"
  }
 },
 "nbformat": 4,
 "nbformat_minor": 5
}
